{
 "cells": [
  {
   "cell_type": "markdown",
   "metadata": {},
   "source": [
    "Import the necessary Libraries"
   ]
  },
  {
   "cell_type": "code",
   "execution_count": 91,
   "metadata": {},
   "outputs": [],
   "source": [
    "import pandas as pd\n",
    "import numpy as np"
   ]
  },
  {
   "cell_type": "markdown",
   "metadata": {},
   "source": [
    "Exploring Kaggle Dataset"
   ]
  },
  {
   "cell_type": "code",
   "execution_count": 92,
   "metadata": {},
   "outputs": [
    {
     "data": {
      "text/plain": [
       "(7658, 89)"
      ]
     },
     "execution_count": 92,
     "metadata": {},
     "output_type": "execute_result"
    }
   ],
   "source": [
    "# load the training dataset\n",
    "train = pd.read_parquet(\"Training.parquet\")\n",
    "train.shape"
   ]
  },
  {
   "cell_type": "code",
   "execution_count": 93,
   "metadata": {},
   "outputs": [
    {
     "data": {
      "text/plain": [
       "(3772, 89)"
      ]
     },
     "execution_count": 93,
     "metadata": {},
     "output_type": "execute_result"
    }
   ],
   "source": [
    "# load the test dataset\n",
    "test = pd.read_parquet(\"Testing.parquet\")\n",
    "test.shape"
   ]
  },
  {
   "cell_type": "markdown",
   "metadata": {},
   "source": [
    "Combine the train and test datasets"
   ]
  },
  {
   "cell_type": "code",
   "execution_count": 94,
   "metadata": {},
   "outputs": [
    {
     "data": {
      "text/plain": [
       "(11430, 89)"
      ]
     },
     "execution_count": 94,
     "metadata": {},
     "output_type": "execute_result"
    }
   ],
   "source": [
    "combined_data = pd.concat([train, test], axis=0, ignore_index=True)\n",
    "combined_data.shape"
   ]
  },
  {
   "cell_type": "markdown",
   "metadata": {},
   "source": [
    "#### check the columns of the combined dataframe"
   ]
  },
  {
   "cell_type": "code",
   "execution_count": 95,
   "metadata": {},
   "outputs": [
    {
     "data": {
      "text/plain": [
       "Index(['url', 'length_url', 'length_hostname', 'ip', 'nb_dots', 'nb_hyphens',\n",
       "       'nb_at', 'nb_qm', 'nb_and', 'nb_or', 'nb_eq', 'nb_underscore',\n",
       "       'nb_tilde', 'nb_percent', 'nb_slash', 'nb_star', 'nb_colon', 'nb_comma',\n",
       "       'nb_semicolumn', 'nb_dollar', 'nb_space', 'nb_www', 'nb_com',\n",
       "       'nb_dslash', 'http_in_path', 'https_token', 'ratio_digits_url',\n",
       "       'ratio_digits_host', 'punycode', 'port', 'tld_in_path',\n",
       "       'tld_in_subdomain', 'abnormal_subdomain', 'nb_subdomains',\n",
       "       'prefix_suffix', 'random_domain', 'shortening_service',\n",
       "       'path_extension', 'nb_redirection', 'nb_external_redirection',\n",
       "       'length_words_raw', 'char_repeat', 'shortest_words_raw',\n",
       "       'shortest_word_host', 'shortest_word_path', 'longest_words_raw',\n",
       "       'longest_word_host', 'longest_word_path', 'avg_words_raw',\n",
       "       'avg_word_host', 'avg_word_path', 'phish_hints', 'domain_in_brand',\n",
       "       'brand_in_subdomain', 'brand_in_path', 'suspecious_tld',\n",
       "       'statistical_report', 'nb_hyperlinks', 'ratio_intHyperlinks',\n",
       "       'ratio_extHyperlinks', 'ratio_nullHyperlinks', 'nb_extCSS',\n",
       "       'ratio_intRedirection', 'ratio_extRedirection', 'ratio_intErrors',\n",
       "       'ratio_extErrors', 'login_form', 'external_favicon', 'links_in_tags',\n",
       "       'submit_email', 'ratio_intMedia', 'ratio_extMedia', 'sfh', 'iframe',\n",
       "       'popup_window', 'safe_anchor', 'onmouseover', 'right_clic',\n",
       "       'empty_title', 'domain_in_title', 'domain_with_copyright',\n",
       "       'whois_registered_domain', 'domain_registration_length', 'domain_age',\n",
       "       'web_traffic', 'dns_record', 'google_index', 'page_rank', 'status'],\n",
       "      dtype='object')"
      ]
     },
     "execution_count": 95,
     "metadata": {},
     "output_type": "execute_result"
    }
   ],
   "source": [
    "combined_data.columns"
   ]
  },
  {
   "cell_type": "markdown",
   "metadata": {},
   "source": [
    "- The dataset has 89 different columns\n",
    "- the status column is the target column"
   ]
  },
  {
   "cell_type": "markdown",
   "metadata": {},
   "source": [
    "#### create a new dataframe that has only the url and status columns"
   ]
  },
  {
   "cell_type": "code",
   "execution_count": 96,
   "metadata": {},
   "outputs": [
    {
     "data": {
      "text/html": [
       "<div>\n",
       "<style scoped>\n",
       "    .dataframe tbody tr th:only-of-type {\n",
       "        vertical-align: middle;\n",
       "    }\n",
       "\n",
       "    .dataframe tbody tr th {\n",
       "        vertical-align: top;\n",
       "    }\n",
       "\n",
       "    .dataframe thead th {\n",
       "        text-align: right;\n",
       "    }\n",
       "</style>\n",
       "<table border=\"1\" class=\"dataframe\">\n",
       "  <thead>\n",
       "    <tr style=\"text-align: right;\">\n",
       "      <th></th>\n",
       "      <th>url</th>\n",
       "      <th>status</th>\n",
       "    </tr>\n",
       "  </thead>\n",
       "  <tbody>\n",
       "    <tr>\n",
       "      <th>0</th>\n",
       "      <td>https://www.todayshomeowner.com/how-to-make-ho...</td>\n",
       "      <td>legitimate</td>\n",
       "    </tr>\n",
       "    <tr>\n",
       "      <th>1</th>\n",
       "      <td>http://thapthan.ac.th/information/confirmation...</td>\n",
       "      <td>phishing</td>\n",
       "    </tr>\n",
       "    <tr>\n",
       "      <th>2</th>\n",
       "      <td>http://app.dialoginsight.com/T/OFC4/L2S/3888/B...</td>\n",
       "      <td>phishing</td>\n",
       "    </tr>\n",
       "    <tr>\n",
       "      <th>3</th>\n",
       "      <td>https://www.bedslide.com</td>\n",
       "      <td>legitimate</td>\n",
       "    </tr>\n",
       "    <tr>\n",
       "      <th>4</th>\n",
       "      <td>https://tabs.ultimate-guitar.com/s/sex_pistols...</td>\n",
       "      <td>legitimate</td>\n",
       "    </tr>\n",
       "  </tbody>\n",
       "</table>\n",
       "</div>"
      ],
      "text/plain": [
       "                                                 url      status\n",
       "0  https://www.todayshomeowner.com/how-to-make-ho...  legitimate\n",
       "1  http://thapthan.ac.th/information/confirmation...    phishing\n",
       "2  http://app.dialoginsight.com/T/OFC4/L2S/3888/B...    phishing\n",
       "3                           https://www.bedslide.com  legitimate\n",
       "4  https://tabs.ultimate-guitar.com/s/sex_pistols...  legitimate"
      ]
     },
     "execution_count": 96,
     "metadata": {},
     "output_type": "execute_result"
    }
   ],
   "source": [
    "# Create a new DataFrame with only the 'url' and 'status' columns\n",
    "url_status_df = combined_data[['url', 'status']]\n",
    "url_status_df.head()"
   ]
  },
  {
   "cell_type": "markdown",
   "metadata": {},
   "source": [
    "#### convert status column to numerical"
   ]
  },
  {
   "cell_type": "code",
   "execution_count": 97,
   "metadata": {},
   "outputs": [
    {
     "data": {
      "text/html": [
       "<div>\n",
       "<style scoped>\n",
       "    .dataframe tbody tr th:only-of-type {\n",
       "        vertical-align: middle;\n",
       "    }\n",
       "\n",
       "    .dataframe tbody tr th {\n",
       "        vertical-align: top;\n",
       "    }\n",
       "\n",
       "    .dataframe thead th {\n",
       "        text-align: right;\n",
       "    }\n",
       "</style>\n",
       "<table border=\"1\" class=\"dataframe\">\n",
       "  <thead>\n",
       "    <tr style=\"text-align: right;\">\n",
       "      <th></th>\n",
       "      <th>url</th>\n",
       "      <th>status</th>\n",
       "    </tr>\n",
       "  </thead>\n",
       "  <tbody>\n",
       "    <tr>\n",
       "      <th>0</th>\n",
       "      <td>https://www.todayshomeowner.com/how-to-make-ho...</td>\n",
       "      <td>0</td>\n",
       "    </tr>\n",
       "    <tr>\n",
       "      <th>1</th>\n",
       "      <td>http://thapthan.ac.th/information/confirmation...</td>\n",
       "      <td>1</td>\n",
       "    </tr>\n",
       "    <tr>\n",
       "      <th>2</th>\n",
       "      <td>http://app.dialoginsight.com/T/OFC4/L2S/3888/B...</td>\n",
       "      <td>1</td>\n",
       "    </tr>\n",
       "    <tr>\n",
       "      <th>3</th>\n",
       "      <td>https://www.bedslide.com</td>\n",
       "      <td>0</td>\n",
       "    </tr>\n",
       "    <tr>\n",
       "      <th>4</th>\n",
       "      <td>https://tabs.ultimate-guitar.com/s/sex_pistols...</td>\n",
       "      <td>0</td>\n",
       "    </tr>\n",
       "  </tbody>\n",
       "</table>\n",
       "</div>"
      ],
      "text/plain": [
       "                                                 url  status\n",
       "0  https://www.todayshomeowner.com/how-to-make-ho...       0\n",
       "1  http://thapthan.ac.th/information/confirmation...       1\n",
       "2  http://app.dialoginsight.com/T/OFC4/L2S/3888/B...       1\n",
       "3                           https://www.bedslide.com       0\n",
       "4  https://tabs.ultimate-guitar.com/s/sex_pistols...       0"
      ]
     },
     "execution_count": 97,
     "metadata": {},
     "output_type": "execute_result"
    }
   ],
   "source": [
    "# Create a copy to avoid the SettingWithCopyWarning\n",
    "url_status_df = url_status_df.copy()\n",
    "\n",
    "# Map the 'status' column to numerical values\n",
    "url_status_df['status'] = url_status_df['status'].map({'legitimate': 0, 'phishing': 1})\n",
    "url_status_df.head()\n"
   ]
  },
  {
   "cell_type": "markdown",
   "metadata": {},
   "source": [
    "#### check for duplicates"
   ]
  },
  {
   "cell_type": "code",
   "execution_count": 98,
   "metadata": {},
   "outputs": [
    {
     "name": "stdout",
     "output_type": "stream",
     "text": [
      "Number of duplicate URLs: 1\n"
     ]
    }
   ],
   "source": [
    "# Count the number of duplicate URLs\n",
    "duplicate_count = url_status_df['url'].duplicated().sum()\n",
    "print(f\"Number of duplicate URLs: {duplicate_count}\")"
   ]
  },
  {
   "cell_type": "markdown",
   "metadata": {},
   "source": [
    "- The url_status_df has one observation duplicated.\n",
    "- The duplicated row will be dropped after combining with the UCI Irvine dataset"
   ]
  },
  {
   "cell_type": "markdown",
   "metadata": {},
   "source": [
    "#### inspect the unique values in the status column "
   ]
  },
  {
   "cell_type": "code",
   "execution_count": 99,
   "metadata": {},
   "outputs": [
    {
     "data": {
      "text/plain": [
       "array([0, 1], dtype=int64)"
      ]
     },
     "execution_count": 99,
     "metadata": {},
     "output_type": "execute_result"
    }
   ],
   "source": [
    "url_status_df['status'].unique()"
   ]
  },
  {
   "cell_type": "markdown",
   "metadata": {},
   "source": [
    "#### Check the value counts for both the legitimate and the legitimate and the phishing urls"
   ]
  },
  {
   "cell_type": "code",
   "execution_count": 100,
   "metadata": {},
   "outputs": [
    {
     "data": {
      "text/plain": [
       "1    5715\n",
       "0    5715\n",
       "Name: status, dtype: int64"
      ]
     },
     "execution_count": 100,
     "metadata": {},
     "output_type": "execute_result"
    }
   ],
   "source": [
    "url_status_df.status.value_counts()"
   ]
  },
  {
   "cell_type": "markdown",
   "metadata": {},
   "source": [
    "- The dataset is balanced.\n",
    "- It has 5715 legitimate urls and 5715 phishing urls"
   ]
  },
  {
   "cell_type": "markdown",
   "metadata": {},
   "source": [
    "## Exploring the UCI Irvine Dataset"
   ]
  },
  {
   "cell_type": "markdown",
   "metadata": {},
   "source": [
    "#### Loading the dataset"
   ]
  },
  {
   "cell_type": "code",
   "execution_count": 101,
   "metadata": {},
   "outputs": [
    {
     "data": {
      "text/html": [
       "<div>\n",
       "<style scoped>\n",
       "    .dataframe tbody tr th:only-of-type {\n",
       "        vertical-align: middle;\n",
       "    }\n",
       "\n",
       "    .dataframe tbody tr th {\n",
       "        vertical-align: top;\n",
       "    }\n",
       "\n",
       "    .dataframe thead th {\n",
       "        text-align: right;\n",
       "    }\n",
       "</style>\n",
       "<table border=\"1\" class=\"dataframe\">\n",
       "  <thead>\n",
       "    <tr style=\"text-align: right;\">\n",
       "      <th></th>\n",
       "      <th>FILENAME</th>\n",
       "      <th>URL</th>\n",
       "      <th>URLLength</th>\n",
       "      <th>Domain</th>\n",
       "      <th>DomainLength</th>\n",
       "      <th>IsDomainIP</th>\n",
       "      <th>TLD</th>\n",
       "      <th>URLSimilarityIndex</th>\n",
       "      <th>CharContinuationRate</th>\n",
       "      <th>TLDLegitimateProb</th>\n",
       "      <th>...</th>\n",
       "      <th>Pay</th>\n",
       "      <th>Crypto</th>\n",
       "      <th>HasCopyrightInfo</th>\n",
       "      <th>NoOfImage</th>\n",
       "      <th>NoOfCSS</th>\n",
       "      <th>NoOfJS</th>\n",
       "      <th>NoOfSelfRef</th>\n",
       "      <th>NoOfEmptyRef</th>\n",
       "      <th>NoOfExternalRef</th>\n",
       "      <th>label</th>\n",
       "    </tr>\n",
       "  </thead>\n",
       "  <tbody>\n",
       "    <tr>\n",
       "      <th>0</th>\n",
       "      <td>521848.txt</td>\n",
       "      <td>https://www.southbankmosaics.com</td>\n",
       "      <td>31</td>\n",
       "      <td>www.southbankmosaics.com</td>\n",
       "      <td>24</td>\n",
       "      <td>0</td>\n",
       "      <td>com</td>\n",
       "      <td>100.0</td>\n",
       "      <td>1.000000</td>\n",
       "      <td>0.522907</td>\n",
       "      <td>...</td>\n",
       "      <td>0</td>\n",
       "      <td>0</td>\n",
       "      <td>1</td>\n",
       "      <td>34</td>\n",
       "      <td>20</td>\n",
       "      <td>28</td>\n",
       "      <td>119</td>\n",
       "      <td>0</td>\n",
       "      <td>124</td>\n",
       "      <td>1</td>\n",
       "    </tr>\n",
       "    <tr>\n",
       "      <th>1</th>\n",
       "      <td>31372.txt</td>\n",
       "      <td>https://www.uni-mainz.de</td>\n",
       "      <td>23</td>\n",
       "      <td>www.uni-mainz.de</td>\n",
       "      <td>16</td>\n",
       "      <td>0</td>\n",
       "      <td>de</td>\n",
       "      <td>100.0</td>\n",
       "      <td>0.666667</td>\n",
       "      <td>0.032650</td>\n",
       "      <td>...</td>\n",
       "      <td>0</td>\n",
       "      <td>0</td>\n",
       "      <td>1</td>\n",
       "      <td>50</td>\n",
       "      <td>9</td>\n",
       "      <td>8</td>\n",
       "      <td>39</td>\n",
       "      <td>0</td>\n",
       "      <td>217</td>\n",
       "      <td>1</td>\n",
       "    </tr>\n",
       "    <tr>\n",
       "      <th>2</th>\n",
       "      <td>597387.txt</td>\n",
       "      <td>https://www.voicefmradio.co.uk</td>\n",
       "      <td>29</td>\n",
       "      <td>www.voicefmradio.co.uk</td>\n",
       "      <td>22</td>\n",
       "      <td>0</td>\n",
       "      <td>uk</td>\n",
       "      <td>100.0</td>\n",
       "      <td>0.866667</td>\n",
       "      <td>0.028555</td>\n",
       "      <td>...</td>\n",
       "      <td>0</td>\n",
       "      <td>0</td>\n",
       "      <td>1</td>\n",
       "      <td>10</td>\n",
       "      <td>2</td>\n",
       "      <td>7</td>\n",
       "      <td>42</td>\n",
       "      <td>2</td>\n",
       "      <td>5</td>\n",
       "      <td>1</td>\n",
       "    </tr>\n",
       "    <tr>\n",
       "      <th>3</th>\n",
       "      <td>554095.txt</td>\n",
       "      <td>https://www.sfnmjournal.com</td>\n",
       "      <td>26</td>\n",
       "      <td>www.sfnmjournal.com</td>\n",
       "      <td>19</td>\n",
       "      <td>0</td>\n",
       "      <td>com</td>\n",
       "      <td>100.0</td>\n",
       "      <td>1.000000</td>\n",
       "      <td>0.522907</td>\n",
       "      <td>...</td>\n",
       "      <td>1</td>\n",
       "      <td>1</td>\n",
       "      <td>1</td>\n",
       "      <td>3</td>\n",
       "      <td>27</td>\n",
       "      <td>15</td>\n",
       "      <td>22</td>\n",
       "      <td>1</td>\n",
       "      <td>31</td>\n",
       "      <td>1</td>\n",
       "    </tr>\n",
       "    <tr>\n",
       "      <th>4</th>\n",
       "      <td>151578.txt</td>\n",
       "      <td>https://www.rewildingargentina.org</td>\n",
       "      <td>33</td>\n",
       "      <td>www.rewildingargentina.org</td>\n",
       "      <td>26</td>\n",
       "      <td>0</td>\n",
       "      <td>org</td>\n",
       "      <td>100.0</td>\n",
       "      <td>1.000000</td>\n",
       "      <td>0.079963</td>\n",
       "      <td>...</td>\n",
       "      <td>1</td>\n",
       "      <td>0</td>\n",
       "      <td>1</td>\n",
       "      <td>244</td>\n",
       "      <td>15</td>\n",
       "      <td>34</td>\n",
       "      <td>72</td>\n",
       "      <td>1</td>\n",
       "      <td>85</td>\n",
       "      <td>1</td>\n",
       "    </tr>\n",
       "  </tbody>\n",
       "</table>\n",
       "<p>5 rows × 56 columns</p>\n",
       "</div>"
      ],
      "text/plain": [
       "     FILENAME                                 URL  URLLength  \\\n",
       "0  521848.txt    https://www.southbankmosaics.com         31   \n",
       "1   31372.txt            https://www.uni-mainz.de         23   \n",
       "2  597387.txt      https://www.voicefmradio.co.uk         29   \n",
       "3  554095.txt         https://www.sfnmjournal.com         26   \n",
       "4  151578.txt  https://www.rewildingargentina.org         33   \n",
       "\n",
       "                       Domain  DomainLength  IsDomainIP  TLD  \\\n",
       "0    www.southbankmosaics.com            24           0  com   \n",
       "1            www.uni-mainz.de            16           0   de   \n",
       "2      www.voicefmradio.co.uk            22           0   uk   \n",
       "3         www.sfnmjournal.com            19           0  com   \n",
       "4  www.rewildingargentina.org            26           0  org   \n",
       "\n",
       "   URLSimilarityIndex  CharContinuationRate  TLDLegitimateProb  ...  Pay  \\\n",
       "0               100.0              1.000000           0.522907  ...    0   \n",
       "1               100.0              0.666667           0.032650  ...    0   \n",
       "2               100.0              0.866667           0.028555  ...    0   \n",
       "3               100.0              1.000000           0.522907  ...    1   \n",
       "4               100.0              1.000000           0.079963  ...    1   \n",
       "\n",
       "   Crypto  HasCopyrightInfo  NoOfImage  NoOfCSS  NoOfJS  NoOfSelfRef  \\\n",
       "0       0                 1         34       20      28          119   \n",
       "1       0                 1         50        9       8           39   \n",
       "2       0                 1         10        2       7           42   \n",
       "3       1                 1          3       27      15           22   \n",
       "4       0                 1        244       15      34           72   \n",
       "\n",
       "   NoOfEmptyRef  NoOfExternalRef  label  \n",
       "0             0              124      1  \n",
       "1             0              217      1  \n",
       "2             2                5      1  \n",
       "3             1               31      1  \n",
       "4             1               85      1  \n",
       "\n",
       "[5 rows x 56 columns]"
      ]
     },
     "execution_count": 101,
     "metadata": {},
     "output_type": "execute_result"
    }
   ],
   "source": [
    "dataset2= pd.read_csv(\"PhiUSIIL_Phishing_URL_Dataset.csv\")\n",
    "dataset2.head()"
   ]
  },
  {
   "cell_type": "markdown",
   "metadata": {},
   "source": [
    "#### "
   ]
  },
  {
   "cell_type": "markdown",
   "metadata": {},
   "source": [
    "#### check the columns of dataset 2"
   ]
  },
  {
   "cell_type": "code",
   "execution_count": 102,
   "metadata": {},
   "outputs": [
    {
     "data": {
      "text/plain": [
       "Index(['FILENAME', 'URL', 'URLLength', 'Domain', 'DomainLength', 'IsDomainIP',\n",
       "       'TLD', 'URLSimilarityIndex', 'CharContinuationRate',\n",
       "       'TLDLegitimateProb', 'URLCharProb', 'TLDLength', 'NoOfSubDomain',\n",
       "       'HasObfuscation', 'NoOfObfuscatedChar', 'ObfuscationRatio',\n",
       "       'NoOfLettersInURL', 'LetterRatioInURL', 'NoOfDegitsInURL',\n",
       "       'DegitRatioInURL', 'NoOfEqualsInURL', 'NoOfQMarkInURL',\n",
       "       'NoOfAmpersandInURL', 'NoOfOtherSpecialCharsInURL',\n",
       "       'SpacialCharRatioInURL', 'IsHTTPS', 'LineOfCode', 'LargestLineLength',\n",
       "       'HasTitle', 'Title', 'DomainTitleMatchScore', 'URLTitleMatchScore',\n",
       "       'HasFavicon', 'Robots', 'IsResponsive', 'NoOfURLRedirect',\n",
       "       'NoOfSelfRedirect', 'HasDescription', 'NoOfPopup', 'NoOfiFrame',\n",
       "       'HasExternalFormSubmit', 'HasSocialNet', 'HasSubmitButton',\n",
       "       'HasHiddenFields', 'HasPasswordField', 'Bank', 'Pay', 'Crypto',\n",
       "       'HasCopyrightInfo', 'NoOfImage', 'NoOfCSS', 'NoOfJS', 'NoOfSelfRef',\n",
       "       'NoOfEmptyRef', 'NoOfExternalRef', 'label'],\n",
       "      dtype='object')"
      ]
     },
     "execution_count": 102,
     "metadata": {},
     "output_type": "execute_result"
    }
   ],
   "source": [
    "dataset2.columns"
   ]
  },
  {
   "cell_type": "markdown",
   "metadata": {},
   "source": [
    "#### create a new dataframe that has only the URL and the target variable"
   ]
  },
  {
   "cell_type": "code",
   "execution_count": 103,
   "metadata": {},
   "outputs": [
    {
     "data": {
      "text/html": [
       "<div>\n",
       "<style scoped>\n",
       "    .dataframe tbody tr th:only-of-type {\n",
       "        vertical-align: middle;\n",
       "    }\n",
       "\n",
       "    .dataframe tbody tr th {\n",
       "        vertical-align: top;\n",
       "    }\n",
       "\n",
       "    .dataframe thead th {\n",
       "        text-align: right;\n",
       "    }\n",
       "</style>\n",
       "<table border=\"1\" class=\"dataframe\">\n",
       "  <thead>\n",
       "    <tr style=\"text-align: right;\">\n",
       "      <th></th>\n",
       "      <th>URL</th>\n",
       "      <th>label</th>\n",
       "    </tr>\n",
       "  </thead>\n",
       "  <tbody>\n",
       "    <tr>\n",
       "      <th>0</th>\n",
       "      <td>https://www.southbankmosaics.com</td>\n",
       "      <td>1</td>\n",
       "    </tr>\n",
       "    <tr>\n",
       "      <th>1</th>\n",
       "      <td>https://www.uni-mainz.de</td>\n",
       "      <td>1</td>\n",
       "    </tr>\n",
       "    <tr>\n",
       "      <th>2</th>\n",
       "      <td>https://www.voicefmradio.co.uk</td>\n",
       "      <td>1</td>\n",
       "    </tr>\n",
       "    <tr>\n",
       "      <th>3</th>\n",
       "      <td>https://www.sfnmjournal.com</td>\n",
       "      <td>1</td>\n",
       "    </tr>\n",
       "    <tr>\n",
       "      <th>4</th>\n",
       "      <td>https://www.rewildingargentina.org</td>\n",
       "      <td>1</td>\n",
       "    </tr>\n",
       "  </tbody>\n",
       "</table>\n",
       "</div>"
      ],
      "text/plain": [
       "                                  URL  label\n",
       "0    https://www.southbankmosaics.com      1\n",
       "1            https://www.uni-mainz.de      1\n",
       "2      https://www.voicefmradio.co.uk      1\n",
       "3         https://www.sfnmjournal.com      1\n",
       "4  https://www.rewildingargentina.org      1"
      ]
     },
     "execution_count": 103,
     "metadata": {},
     "output_type": "execute_result"
    }
   ],
   "source": [
    "# Create a new DataFrame with only the 'url' and 'status' columns\n",
    "url_label_df = dataset2[['URL', 'label']]\n",
    "url_label_df.head()"
   ]
  },
  {
   "cell_type": "markdown",
   "metadata": {},
   "source": [
    "#### check the shape of the url_label_df"
   ]
  },
  {
   "cell_type": "code",
   "execution_count": 104,
   "metadata": {},
   "outputs": [
    {
     "data": {
      "text/plain": [
       "(235795, 2)"
      ]
     },
     "execution_count": 104,
     "metadata": {},
     "output_type": "execute_result"
    }
   ],
   "source": [
    "url_label_df.shape"
   ]
  },
  {
   "cell_type": "markdown",
   "metadata": {},
   "source": [
    "- The dataset has 235,795 observations with the target column to determine whether the url is a legitimate or phishing url"
   ]
  },
  {
   "cell_type": "markdown",
   "metadata": {},
   "source": [
    "#### check for duplicates"
   ]
  },
  {
   "cell_type": "code",
   "execution_count": 105,
   "metadata": {},
   "outputs": [
    {
     "name": "stdout",
     "output_type": "stream",
     "text": [
      "Number of duplicate URLs: 425\n"
     ]
    }
   ],
   "source": [
    "# Count the number of duplicate URLs\n",
    "duplicate_count = url_label_df['URL'].duplicated().sum()\n",
    "print(f\"Number of duplicate URLs: {duplicate_count}\")"
   ]
  },
  {
   "cell_type": "markdown",
   "metadata": {},
   "source": [
    "- The dataset has 425 duplicates\n",
    "- The duplicates will be dropped after combining the two datasets"
   ]
  },
  {
   "cell_type": "markdown",
   "metadata": {},
   "source": [
    "### Merging both datasets\n",
    "\n",
    "Here the kaggle dataset and the UCI Irvine dataset are marged before extracting the features for the combined dataset.\n",
    "\n",
    "The datasets will be merged as follows:\n",
    "1. Standardize Column Names: Rename similar columns in each dataset to a common name.\n",
    "2. Concatenate: Use pd.concat to combine the datasets."
   ]
  },
  {
   "cell_type": "code",
   "execution_count": 106,
   "metadata": {},
   "outputs": [
    {
     "data": {
      "text/html": [
       "<div>\n",
       "<style scoped>\n",
       "    .dataframe tbody tr th:only-of-type {\n",
       "        vertical-align: middle;\n",
       "    }\n",
       "\n",
       "    .dataframe tbody tr th {\n",
       "        vertical-align: top;\n",
       "    }\n",
       "\n",
       "    .dataframe thead th {\n",
       "        text-align: right;\n",
       "    }\n",
       "</style>\n",
       "<table border=\"1\" class=\"dataframe\">\n",
       "  <thead>\n",
       "    <tr style=\"text-align: right;\">\n",
       "      <th></th>\n",
       "      <th>url</th>\n",
       "      <th>status</th>\n",
       "    </tr>\n",
       "  </thead>\n",
       "  <tbody>\n",
       "    <tr>\n",
       "      <th>0</th>\n",
       "      <td>https://www.todayshomeowner.com/how-to-make-ho...</td>\n",
       "      <td>0</td>\n",
       "    </tr>\n",
       "    <tr>\n",
       "      <th>1</th>\n",
       "      <td>http://thapthan.ac.th/information/confirmation...</td>\n",
       "      <td>1</td>\n",
       "    </tr>\n",
       "    <tr>\n",
       "      <th>2</th>\n",
       "      <td>http://app.dialoginsight.com/T/OFC4/L2S/3888/B...</td>\n",
       "      <td>1</td>\n",
       "    </tr>\n",
       "    <tr>\n",
       "      <th>3</th>\n",
       "      <td>https://www.bedslide.com</td>\n",
       "      <td>0</td>\n",
       "    </tr>\n",
       "    <tr>\n",
       "      <th>4</th>\n",
       "      <td>https://tabs.ultimate-guitar.com/s/sex_pistols...</td>\n",
       "      <td>0</td>\n",
       "    </tr>\n",
       "  </tbody>\n",
       "</table>\n",
       "</div>"
      ],
      "text/plain": [
       "                                                 url  status\n",
       "0  https://www.todayshomeowner.com/how-to-make-ho...       0\n",
       "1  http://thapthan.ac.th/information/confirmation...       1\n",
       "2  http://app.dialoginsight.com/T/OFC4/L2S/3888/B...       1\n",
       "3                           https://www.bedslide.com       0\n",
       "4  https://tabs.ultimate-guitar.com/s/sex_pistols...       0"
      ]
     },
     "execution_count": 106,
     "metadata": {},
     "output_type": "execute_result"
    }
   ],
   "source": [
    "# Rename columns in url_label_df for consistency\n",
    "url_label_df = url_label_df.rename(columns={'URL': 'url', 'label': 'status'})\n",
    "\n",
    "# Concatenate the two DataFrames\n",
    "combined_df = pd.concat([url_status_df, url_label_df], ignore_index=True)\n",
    "\n",
    "combined_df.head()"
   ]
  },
  {
   "cell_type": "markdown",
   "metadata": {},
   "source": [
    "#### check the shape of the combined dataframe"
   ]
  },
  {
   "cell_type": "code",
   "execution_count": 107,
   "metadata": {},
   "outputs": [
    {
     "data": {
      "text/plain": [
       "(247225, 2)"
      ]
     },
     "execution_count": 107,
     "metadata": {},
     "output_type": "execute_result"
    }
   ],
   "source": [
    "combined_df.shape"
   ]
  },
  {
   "cell_type": "markdown",
   "metadata": {},
   "source": [
    "## Preprocessing"
   ]
  },
  {
   "cell_type": "markdown",
   "metadata": {},
   "source": [
    "#### Checking whether there are duplicates in the combined dataframe"
   ]
  },
  {
   "cell_type": "code",
   "execution_count": 108,
   "metadata": {},
   "outputs": [
    {
     "name": "stdout",
     "output_type": "stream",
     "text": [
      "Duplicate URLs:\n",
      "                                                      url  status\n",
      "261     https://app.box.com/s/x6agocx9zvj049azirk4aw3x...       1\n",
      "303                         http://vxdse.myfreesites.net/       1\n",
      "339                     http://repl-mess.myfreesites.net/       1\n",
      "389                     http://site9423773.92.webydo.com/       1\n",
      "485     http://www.imcreator.com/viewer/vbid-fa0f29d5-...       1\n",
      "...                                                   ...     ...\n",
      "246025                 https://outlook-web-fb782.web.app/       0\n",
      "246710                    https://orange789.yolasite.com/       0\n",
      "246848                http://uph0ldlgin.mystrikingly.com/       0\n",
      "246931  https://objectstorage.ap-singapore-1.oracleclo...       0\n",
      "247168    https://yellow-river-189b.lhziiz35.workers.dev/       0\n",
      "\n",
      "[937 rows x 2 columns]\n"
     ]
    }
   ],
   "source": [
    "# Check for duplicates in the 'url' column\n",
    "duplicates = combined_df.duplicated(subset='url', keep=False)  # keep=False marks all duplicates as True\n",
    "\n",
    "# Display all rows with duplicate URLs\n",
    "duplicate_urls = combined_df[duplicates]\n",
    "print(\"Duplicate URLs:\")\n",
    "print(duplicate_urls)"
   ]
  },
  {
   "cell_type": "markdown",
   "metadata": {},
   "source": [
    "#### Count the Number of Duplicate URLs"
   ]
  },
  {
   "cell_type": "code",
   "execution_count": 109,
   "metadata": {},
   "outputs": [
    {
     "name": "stdout",
     "output_type": "stream",
     "text": [
      "Number of duplicate URLs: 470\n"
     ]
    }
   ],
   "source": [
    "# Count the number of duplicate URLs\n",
    "duplicate_count = combined_df['url'].duplicated().sum()\n",
    "print(f\"Number of duplicate URLs: {duplicate_count}\")"
   ]
  },
  {
   "cell_type": "markdown",
   "metadata": {},
   "source": [
    "- The dataset has 420 duplicate URLS\n",
    "- We therefore drop the duplicate URLS before extracting the features"
   ]
  },
  {
   "cell_type": "markdown",
   "metadata": {},
   "source": [
    "#### Drop Duplicates"
   ]
  },
  {
   "cell_type": "code",
   "execution_count": 110,
   "metadata": {},
   "outputs": [
    {
     "name": "stdout",
     "output_type": "stream",
     "text": [
      "DataFrame after removing duplicates:\n",
      "                                                      url  status\n",
      "0       https://www.todayshomeowner.com/how-to-make-ho...       0\n",
      "1       http://thapthan.ac.th/information/confirmation...       1\n",
      "2       http://app.dialoginsight.com/T/OFC4/L2S/3888/B...       1\n",
      "3                                https://www.bedslide.com       0\n",
      "4       https://tabs.ultimate-guitar.com/s/sex_pistols...       0\n",
      "...                                                   ...     ...\n",
      "247220                     https://www.skincareliving.com       1\n",
      "247221                      https://www.winchester.gov.uk       1\n",
      "247222                    https://www.nononsensedesign.be       1\n",
      "247223  https://patient-cell-40f5.updatedlogmylogin.wo...       0\n",
      "247224                 https://www.alternativefinland.com       1\n",
      "\n",
      "[246755 rows x 2 columns]\n"
     ]
    }
   ],
   "source": [
    "# Remove duplicates, keeping the first occurrence\n",
    "combined_df_no_duplicates = combined_df.drop_duplicates(subset='url', keep='first')\n",
    "\n",
    "print(\"DataFrame after removing duplicates:\")\n",
    "print(combined_df_no_duplicates)\n"
   ]
  },
  {
   "cell_type": "markdown",
   "metadata": {},
   "source": [
    "check the shape of the new dataframe"
   ]
  },
  {
   "cell_type": "code",
   "execution_count": 111,
   "metadata": {},
   "outputs": [
    {
     "data": {
      "text/plain": [
       "(246755, 2)"
      ]
     },
     "execution_count": 111,
     "metadata": {},
     "output_type": "execute_result"
    }
   ],
   "source": [
    "combined_df_no_duplicates.shape"
   ]
  },
  {
   "cell_type": "markdown",
   "metadata": {},
   "source": [
    "- The new dataframe has 246,755 unique urls"
   ]
  },
  {
   "cell_type": "markdown",
   "metadata": {},
   "source": [
    "## Feature Extraction "
   ]
  },
  {
   "cell_type": "markdown",
   "metadata": {},
   "source": [
    "### Extracting and Calculating Features from URLs"
   ]
  },
  {
   "cell_type": "code",
   "execution_count": 112,
   "metadata": {},
   "outputs": [],
   "source": [
    "import re\n",
    "import numpy as np\n",
    "from urllib.parse import urlparse\n",
    "\n",
    "# Function to extract various features from URL\n",
    "def extract_detailed_url_features(url):\n",
    "    parsed_url = urlparse(url)\n",
    "    domain = parsed_url.netloc\n",
    "    path = parsed_url.path\n",
    "\n",
    "    # Calculating features\n",
    "    features = {\n",
    "        'URLLength': len(url),\n",
    "        'Domain': domain,\n",
    "        'DomainLength': len(domain),\n",
    "        'IsDomainIP': int(re.match(r'^\\d{1,3}(\\.\\d{1,3}){3}$', domain) is not None),  # Check if domain is an IP\n",
    "        'TLD': domain.split('.')[-1] if '.' in domain else '',\n",
    "        'NoOfSubDomain': len(domain.split('.')) - 2 if '.' in domain else 0,\n",
    "        'NoOfLettersInURL': sum(c.isalpha() for c in url),\n",
    "        'LetterRatioInURL': sum(c.isalpha() for c in url) / len(url) if len(url) > 0 else 0,\n",
    "        'NoOfDigitsInURL': sum(c.isdigit() for c in url),\n",
    "        'DigitRatioInURL': sum(c.isdigit() for c in url) / len(url) if len(url) > 0 else 0,\n",
    "        'NoOfEqualsInURL': url.count('='),\n",
    "        'NoOfQMarkInURL': url.count('?'),\n",
    "        'NoOfAmpersandInURL': url.count('&'),\n",
    "        'NoOfOtherSpecialCharsInURL': len(re.findall(r'[!@#$%^*()_+|~=`{}\\[\\]:\";\\'<>?,./]', url)),\n",
    "        'SpecialCharRatioInURL': len(re.findall(r'[!@#$%^*()_+|~=`{}\\[\\]:\";\\'<>?,./]', url)) / len(url) if len(url) > 0 else 0,\n",
    "        'IsHTTPS': int(url.startswith('https')),\n",
    "        'NoOfURLRedirect': url.count('//') - 1,  # Counts '//' occurrences after \"http://\"\n",
    "        'NoOfPopup': int('popup' in url),  # Basic presence check for 'popup' keyword\n",
    "        'NoOfiFrame': int('iframe' in url),  # Basic presence check for 'iframe' keyword\n",
    "        'HasSocialNet': int(any(net in url for net in ['facebook', 'twitter', 'linkedin', 'instagram', 'youtube'])),\n",
    "    }\n",
    "    \n",
    "    # Features based on word analysis in URL\n",
    "    words_raw = re.split(r'\\W+', url)  # Split URL by non-alphanumeric characters\n",
    "    word_lengths = [len(word) for word in words_raw if word]\n",
    "    \n",
    "    features.update({\n",
    "        'length_words_raw': len(words_raw),\n",
    "        'char_repeat': max([url.count(char) for char in set(url)]),  # Max count of any character\n",
    "        'shortest_words_raw': min(word_lengths) if word_lengths else 0,\n",
    "        'longest_words_raw': max(word_lengths) if word_lengths else 0,\n",
    "        'avg_words_raw': np.mean(word_lengths) if word_lengths else 0,\n",
    "    })\n",
    "    \n",
    "    return features\n",
    "\n",
    "# Apply the function to extract features for each URL\n",
    "url_features_df = combined_df_no_duplicates['url'].apply(extract_detailed_url_features).apply(pd.Series)\n",
    "\n",
    "# Concatenate the extracted features with combined_df_no_duplicates\n",
    "combined_df_no_duplicates = pd.concat([combined_df_no_duplicates.reset_index(drop=True), url_features_df], axis=1)\n"
   ]
  },
  {
   "cell_type": "code",
   "execution_count": 113,
   "metadata": {},
   "outputs": [
    {
     "data": {
      "text/html": [
       "<div>\n",
       "<style scoped>\n",
       "    .dataframe tbody tr th:only-of-type {\n",
       "        vertical-align: middle;\n",
       "    }\n",
       "\n",
       "    .dataframe tbody tr th {\n",
       "        vertical-align: top;\n",
       "    }\n",
       "\n",
       "    .dataframe thead th {\n",
       "        text-align: right;\n",
       "    }\n",
       "</style>\n",
       "<table border=\"1\" class=\"dataframe\">\n",
       "  <thead>\n",
       "    <tr style=\"text-align: right;\">\n",
       "      <th></th>\n",
       "      <th>url</th>\n",
       "      <th>status</th>\n",
       "      <th>URLLength</th>\n",
       "      <th>Domain</th>\n",
       "      <th>DomainLength</th>\n",
       "      <th>IsDomainIP</th>\n",
       "      <th>TLD</th>\n",
       "      <th>NoOfSubDomain</th>\n",
       "      <th>NoOfLettersInURL</th>\n",
       "      <th>LetterRatioInURL</th>\n",
       "      <th>...</th>\n",
       "      <th>IsHTTPS</th>\n",
       "      <th>NoOfURLRedirect</th>\n",
       "      <th>NoOfPopup</th>\n",
       "      <th>NoOfiFrame</th>\n",
       "      <th>HasSocialNet</th>\n",
       "      <th>length_words_raw</th>\n",
       "      <th>char_repeat</th>\n",
       "      <th>shortest_words_raw</th>\n",
       "      <th>longest_words_raw</th>\n",
       "      <th>avg_words_raw</th>\n",
       "    </tr>\n",
       "  </thead>\n",
       "  <tbody>\n",
       "    <tr>\n",
       "      <th>0</th>\n",
       "      <td>https://www.todayshomeowner.com/how-to-make-ho...</td>\n",
       "      <td>0.0</td>\n",
       "      <td>82.0</td>\n",
       "      <td>www.todayshomeowner.com</td>\n",
       "      <td>23.0</td>\n",
       "      <td>0.0</td>\n",
       "      <td>com</td>\n",
       "      <td>1.0</td>\n",
       "      <td>68.0</td>\n",
       "      <td>0.829268</td>\n",
       "      <td>...</td>\n",
       "      <td>1.0</td>\n",
       "      <td>0.0</td>\n",
       "      <td>0.0</td>\n",
       "      <td>0.0</td>\n",
       "      <td>0.0</td>\n",
       "      <td>13.0</td>\n",
       "      <td>9.0</td>\n",
       "      <td>2.0</td>\n",
       "      <td>15.0</td>\n",
       "      <td>5.666667</td>\n",
       "    </tr>\n",
       "    <tr>\n",
       "      <th>1</th>\n",
       "      <td>http://thapthan.ac.th/information/confirmation...</td>\n",
       "      <td>1.0</td>\n",
       "      <td>93.0</td>\n",
       "      <td>thapthan.ac.th</td>\n",
       "      <td>14.0</td>\n",
       "      <td>0.0</td>\n",
       "      <td>th</td>\n",
       "      <td>1.0</td>\n",
       "      <td>59.0</td>\n",
       "      <td>0.634409</td>\n",
       "      <td>...</td>\n",
       "      <td>0.0</td>\n",
       "      <td>0.0</td>\n",
       "      <td>0.0</td>\n",
       "      <td>0.0</td>\n",
       "      <td>0.0</td>\n",
       "      <td>9.0</td>\n",
       "      <td>8.0</td>\n",
       "      <td>2.0</td>\n",
       "      <td>32.0</td>\n",
       "      <td>9.222222</td>\n",
       "    </tr>\n",
       "    <tr>\n",
       "      <th>2</th>\n",
       "      <td>http://app.dialoginsight.com/T/OFC4/L2S/3888/B...</td>\n",
       "      <td>1.0</td>\n",
       "      <td>121.0</td>\n",
       "      <td>app.dialoginsight.com</td>\n",
       "      <td>21.0</td>\n",
       "      <td>0.0</td>\n",
       "      <td>com</td>\n",
       "      <td>1.0</td>\n",
       "      <td>55.0</td>\n",
       "      <td>0.454545</td>\n",
       "      <td>...</td>\n",
       "      <td>0.0</td>\n",
       "      <td>0.0</td>\n",
       "      <td>0.0</td>\n",
       "      <td>0.0</td>\n",
       "      <td>0.0</td>\n",
       "      <td>20.0</td>\n",
       "      <td>17.0</td>\n",
       "      <td>1.0</td>\n",
       "      <td>13.0</td>\n",
       "      <td>5.000000</td>\n",
       "    </tr>\n",
       "    <tr>\n",
       "      <th>3</th>\n",
       "      <td>https://www.bedslide.com</td>\n",
       "      <td>0.0</td>\n",
       "      <td>24.0</td>\n",
       "      <td>www.bedslide.com</td>\n",
       "      <td>16.0</td>\n",
       "      <td>0.0</td>\n",
       "      <td>com</td>\n",
       "      <td>1.0</td>\n",
       "      <td>19.0</td>\n",
       "      <td>0.791667</td>\n",
       "      <td>...</td>\n",
       "      <td>1.0</td>\n",
       "      <td>0.0</td>\n",
       "      <td>0.0</td>\n",
       "      <td>0.0</td>\n",
       "      <td>0.0</td>\n",
       "      <td>4.0</td>\n",
       "      <td>3.0</td>\n",
       "      <td>3.0</td>\n",
       "      <td>8.0</td>\n",
       "      <td>4.750000</td>\n",
       "    </tr>\n",
       "    <tr>\n",
       "      <th>4</th>\n",
       "      <td>https://tabs.ultimate-guitar.com/s/sex_pistols...</td>\n",
       "      <td>0.0</td>\n",
       "      <td>73.0</td>\n",
       "      <td>tabs.ultimate-guitar.com</td>\n",
       "      <td>24.0</td>\n",
       "      <td>0.0</td>\n",
       "      <td>com</td>\n",
       "      <td>1.0</td>\n",
       "      <td>58.0</td>\n",
       "      <td>0.794521</td>\n",
       "      <td>...</td>\n",
       "      <td>1.0</td>\n",
       "      <td>0.0</td>\n",
       "      <td>0.0</td>\n",
       "      <td>0.0</td>\n",
       "      <td>0.0</td>\n",
       "      <td>9.0</td>\n",
       "      <td>9.0</td>\n",
       "      <td>1.0</td>\n",
       "      <td>22.0</td>\n",
       "      <td>7.000000</td>\n",
       "    </tr>\n",
       "  </tbody>\n",
       "</table>\n",
       "<p>5 rows × 27 columns</p>\n",
       "</div>"
      ],
      "text/plain": [
       "                                                 url  status  URLLength  \\\n",
       "0  https://www.todayshomeowner.com/how-to-make-ho...     0.0       82.0   \n",
       "1  http://thapthan.ac.th/information/confirmation...     1.0       93.0   \n",
       "2  http://app.dialoginsight.com/T/OFC4/L2S/3888/B...     1.0      121.0   \n",
       "3                           https://www.bedslide.com     0.0       24.0   \n",
       "4  https://tabs.ultimate-guitar.com/s/sex_pistols...     0.0       73.0   \n",
       "\n",
       "                     Domain  DomainLength  IsDomainIP  TLD  NoOfSubDomain  \\\n",
       "0   www.todayshomeowner.com          23.0         0.0  com            1.0   \n",
       "1            thapthan.ac.th          14.0         0.0   th            1.0   \n",
       "2     app.dialoginsight.com          21.0         0.0  com            1.0   \n",
       "3          www.bedslide.com          16.0         0.0  com            1.0   \n",
       "4  tabs.ultimate-guitar.com          24.0         0.0  com            1.0   \n",
       "\n",
       "   NoOfLettersInURL  LetterRatioInURL  ...  IsHTTPS  NoOfURLRedirect  \\\n",
       "0              68.0          0.829268  ...      1.0              0.0   \n",
       "1              59.0          0.634409  ...      0.0              0.0   \n",
       "2              55.0          0.454545  ...      0.0              0.0   \n",
       "3              19.0          0.791667  ...      1.0              0.0   \n",
       "4              58.0          0.794521  ...      1.0              0.0   \n",
       "\n",
       "   NoOfPopup  NoOfiFrame  HasSocialNet  length_words_raw  char_repeat  \\\n",
       "0        0.0         0.0           0.0              13.0          9.0   \n",
       "1        0.0         0.0           0.0               9.0          8.0   \n",
       "2        0.0         0.0           0.0              20.0         17.0   \n",
       "3        0.0         0.0           0.0               4.0          3.0   \n",
       "4        0.0         0.0           0.0               9.0          9.0   \n",
       "\n",
       "   shortest_words_raw  longest_words_raw  avg_words_raw  \n",
       "0                 2.0               15.0       5.666667  \n",
       "1                 2.0               32.0       9.222222  \n",
       "2                 1.0               13.0       5.000000  \n",
       "3                 3.0                8.0       4.750000  \n",
       "4                 1.0               22.0       7.000000  \n",
       "\n",
       "[5 rows x 27 columns]"
      ]
     },
     "execution_count": 113,
     "metadata": {},
     "output_type": "execute_result"
    }
   ],
   "source": [
    "combined_df_no_duplicates.head()"
   ]
  },
  {
   "cell_type": "markdown",
   "metadata": {},
   "source": [
    "#### Basic URL and Domain Metrics:\n",
    "\n",
    "- `URLLength:` Length of the entire URL.\n",
    "- Domain: The domain portion of the URL.\n",
    "- DomainLength: Length of the domain.\n",
    "- IsDomainIP: Binary feature indicating if the domain is an IP address.\n",
    "- TLD: The top-level domain (e.g., .com, .org).\n",
    "- NoOfSubDomain: Number of subdomains in the domain.\n",
    "\n",
    "#### Character Counts and Ratios:\n",
    "- NoOfLettersInURL and LetterRatioInURL: Count and ratio of alphabetic characters.\n",
    "- NoOfDigitsInURL and DigitRatioInURL: Count and ratio of digits.\n",
    "- NoOfEqualsInURL, NoOfQMarkInURL, NoOfAmpersandInURL: Counts of specific characters.\n",
    "- NoOfOtherSpecialCharsInURL and SpecialCharRatioInURL: Counts and ratio of special characters.\n",
    "### Security and Redirect Indicators:\n",
    "\n",
    "- IsHTTPS: Indicates if the URL uses HTTPS.\n",
    "- NoOfURLRedirect: Counts // occurrences, often indicative of redirections.\n",
    "- NoOfPopup and NoOfiFrame: Presence of keywords popup and iframe.\n",
    "#### Word Analysis:\n",
    "\n",
    "- length_words_raw: Number of words split by non-alphanumeric characters.\n",
    "- char_repeat: The maximum count of any single character.\n",
    "- shortest_words_raw, longest_words_raw, avg_words_raw: Statistics of word lengths in the URL."
   ]
  },
  {
   "cell_type": "markdown",
   "metadata": {},
   "source": [
    "### Scrapping web content\n",
    "\n",
    "To extract features like domain_age, dns_record, google_index, page_rank, HasFavicon, HasTitle, and Title, we'll need to parse web content and, in some cases, interact with third-party services. Here’s how to approach each feature:"
   ]
  },
  {
   "cell_type": "markdown",
   "metadata": {},
   "source": [
    "#### Extractin Domain Age"
   ]
  },
  {
   "cell_type": "code",
   "execution_count": 114,
   "metadata": {},
   "outputs": [
    {
     "name": "stdout",
     "output_type": "stream",
     "text": [
      "Requirement already satisfied: whois in c:\\users\\user\\anaconda3\\envs\\learn-env\\lib\\site-packages (0.9.27)\n"
     ]
    }
   ],
   "source": [
    "! pip install whois"
   ]
  },
  {
   "cell_type": "code",
   "execution_count": 115,
   "metadata": {},
   "outputs": [],
   "source": [
    "import whois\n",
    "from datetime import datetime\n",
    "\n",
    "def get_domain_age(domain):\n",
    "    try:\n",
    "        domain_info = whois.whois(domain)\n",
    "        creation_date = domain_info.creation_date\n",
    "        if isinstance(creation_date, list):\n",
    "            creation_date = creation_date[0]  # Handle cases where multiple creation dates are returned\n",
    "        domain_age = (datetime.now() - creation_date).days / 365  # Age in years\n",
    "        return domain_age\n",
    "    except:\n",
    "        return None  # Return None if the WHOIS lookup fails\n",
    "\n",
    "# Apply to your DataFrame\n",
    "combined_df_no_duplicates['domain_age'] = combined_df_no_duplicates['Domain'].apply(get_domain_age)\n"
   ]
  },
  {
   "cell_type": "markdown",
   "metadata": {},
   "source": [
    "Check columns"
   ]
  },
  {
   "cell_type": "code",
   "execution_count": 116,
   "metadata": {},
   "outputs": [
    {
     "data": {
      "text/html": [
       "<div>\n",
       "<style scoped>\n",
       "    .dataframe tbody tr th:only-of-type {\n",
       "        vertical-align: middle;\n",
       "    }\n",
       "\n",
       "    .dataframe tbody tr th {\n",
       "        vertical-align: top;\n",
       "    }\n",
       "\n",
       "    .dataframe thead th {\n",
       "        text-align: right;\n",
       "    }\n",
       "</style>\n",
       "<table border=\"1\" class=\"dataframe\">\n",
       "  <thead>\n",
       "    <tr style=\"text-align: right;\">\n",
       "      <th></th>\n",
       "      <th>url</th>\n",
       "      <th>status</th>\n",
       "      <th>URLLength</th>\n",
       "      <th>Domain</th>\n",
       "      <th>DomainLength</th>\n",
       "      <th>IsDomainIP</th>\n",
       "      <th>TLD</th>\n",
       "      <th>NoOfSubDomain</th>\n",
       "      <th>NoOfLettersInURL</th>\n",
       "      <th>LetterRatioInURL</th>\n",
       "      <th>...</th>\n",
       "      <th>NoOfURLRedirect</th>\n",
       "      <th>NoOfPopup</th>\n",
       "      <th>NoOfiFrame</th>\n",
       "      <th>HasSocialNet</th>\n",
       "      <th>length_words_raw</th>\n",
       "      <th>char_repeat</th>\n",
       "      <th>shortest_words_raw</th>\n",
       "      <th>longest_words_raw</th>\n",
       "      <th>avg_words_raw</th>\n",
       "      <th>domain_age</th>\n",
       "    </tr>\n",
       "  </thead>\n",
       "  <tbody>\n",
       "    <tr>\n",
       "      <th>0</th>\n",
       "      <td>https://www.todayshomeowner.com/how-to-make-ho...</td>\n",
       "      <td>0.0</td>\n",
       "      <td>82.0</td>\n",
       "      <td>www.todayshomeowner.com</td>\n",
       "      <td>23.0</td>\n",
       "      <td>0.0</td>\n",
       "      <td>com</td>\n",
       "      <td>1.0</td>\n",
       "      <td>68.0</td>\n",
       "      <td>0.829268</td>\n",
       "      <td>...</td>\n",
       "      <td>0.0</td>\n",
       "      <td>0.0</td>\n",
       "      <td>0.0</td>\n",
       "      <td>0.0</td>\n",
       "      <td>13.0</td>\n",
       "      <td>9.0</td>\n",
       "      <td>2.0</td>\n",
       "      <td>15.0</td>\n",
       "      <td>5.666667</td>\n",
       "      <td>None</td>\n",
       "    </tr>\n",
       "    <tr>\n",
       "      <th>1</th>\n",
       "      <td>http://thapthan.ac.th/information/confirmation...</td>\n",
       "      <td>1.0</td>\n",
       "      <td>93.0</td>\n",
       "      <td>thapthan.ac.th</td>\n",
       "      <td>14.0</td>\n",
       "      <td>0.0</td>\n",
       "      <td>th</td>\n",
       "      <td>1.0</td>\n",
       "      <td>59.0</td>\n",
       "      <td>0.634409</td>\n",
       "      <td>...</td>\n",
       "      <td>0.0</td>\n",
       "      <td>0.0</td>\n",
       "      <td>0.0</td>\n",
       "      <td>0.0</td>\n",
       "      <td>9.0</td>\n",
       "      <td>8.0</td>\n",
       "      <td>2.0</td>\n",
       "      <td>32.0</td>\n",
       "      <td>9.222222</td>\n",
       "      <td>None</td>\n",
       "    </tr>\n",
       "    <tr>\n",
       "      <th>2</th>\n",
       "      <td>http://app.dialoginsight.com/T/OFC4/L2S/3888/B...</td>\n",
       "      <td>1.0</td>\n",
       "      <td>121.0</td>\n",
       "      <td>app.dialoginsight.com</td>\n",
       "      <td>21.0</td>\n",
       "      <td>0.0</td>\n",
       "      <td>com</td>\n",
       "      <td>1.0</td>\n",
       "      <td>55.0</td>\n",
       "      <td>0.454545</td>\n",
       "      <td>...</td>\n",
       "      <td>0.0</td>\n",
       "      <td>0.0</td>\n",
       "      <td>0.0</td>\n",
       "      <td>0.0</td>\n",
       "      <td>20.0</td>\n",
       "      <td>17.0</td>\n",
       "      <td>1.0</td>\n",
       "      <td>13.0</td>\n",
       "      <td>5.000000</td>\n",
       "      <td>None</td>\n",
       "    </tr>\n",
       "    <tr>\n",
       "      <th>3</th>\n",
       "      <td>https://www.bedslide.com</td>\n",
       "      <td>0.0</td>\n",
       "      <td>24.0</td>\n",
       "      <td>www.bedslide.com</td>\n",
       "      <td>16.0</td>\n",
       "      <td>0.0</td>\n",
       "      <td>com</td>\n",
       "      <td>1.0</td>\n",
       "      <td>19.0</td>\n",
       "      <td>0.791667</td>\n",
       "      <td>...</td>\n",
       "      <td>0.0</td>\n",
       "      <td>0.0</td>\n",
       "      <td>0.0</td>\n",
       "      <td>0.0</td>\n",
       "      <td>4.0</td>\n",
       "      <td>3.0</td>\n",
       "      <td>3.0</td>\n",
       "      <td>8.0</td>\n",
       "      <td>4.750000</td>\n",
       "      <td>None</td>\n",
       "    </tr>\n",
       "    <tr>\n",
       "      <th>4</th>\n",
       "      <td>https://tabs.ultimate-guitar.com/s/sex_pistols...</td>\n",
       "      <td>0.0</td>\n",
       "      <td>73.0</td>\n",
       "      <td>tabs.ultimate-guitar.com</td>\n",
       "      <td>24.0</td>\n",
       "      <td>0.0</td>\n",
       "      <td>com</td>\n",
       "      <td>1.0</td>\n",
       "      <td>58.0</td>\n",
       "      <td>0.794521</td>\n",
       "      <td>...</td>\n",
       "      <td>0.0</td>\n",
       "      <td>0.0</td>\n",
       "      <td>0.0</td>\n",
       "      <td>0.0</td>\n",
       "      <td>9.0</td>\n",
       "      <td>9.0</td>\n",
       "      <td>1.0</td>\n",
       "      <td>22.0</td>\n",
       "      <td>7.000000</td>\n",
       "      <td>None</td>\n",
       "    </tr>\n",
       "  </tbody>\n",
       "</table>\n",
       "<p>5 rows × 28 columns</p>\n",
       "</div>"
      ],
      "text/plain": [
       "                                                 url  status  URLLength  \\\n",
       "0  https://www.todayshomeowner.com/how-to-make-ho...     0.0       82.0   \n",
       "1  http://thapthan.ac.th/information/confirmation...     1.0       93.0   \n",
       "2  http://app.dialoginsight.com/T/OFC4/L2S/3888/B...     1.0      121.0   \n",
       "3                           https://www.bedslide.com     0.0       24.0   \n",
       "4  https://tabs.ultimate-guitar.com/s/sex_pistols...     0.0       73.0   \n",
       "\n",
       "                     Domain  DomainLength  IsDomainIP  TLD  NoOfSubDomain  \\\n",
       "0   www.todayshomeowner.com          23.0         0.0  com            1.0   \n",
       "1            thapthan.ac.th          14.0         0.0   th            1.0   \n",
       "2     app.dialoginsight.com          21.0         0.0  com            1.0   \n",
       "3          www.bedslide.com          16.0         0.0  com            1.0   \n",
       "4  tabs.ultimate-guitar.com          24.0         0.0  com            1.0   \n",
       "\n",
       "   NoOfLettersInURL  LetterRatioInURL  ...  NoOfURLRedirect  NoOfPopup  \\\n",
       "0              68.0          0.829268  ...              0.0        0.0   \n",
       "1              59.0          0.634409  ...              0.0        0.0   \n",
       "2              55.0          0.454545  ...              0.0        0.0   \n",
       "3              19.0          0.791667  ...              0.0        0.0   \n",
       "4              58.0          0.794521  ...              0.0        0.0   \n",
       "\n",
       "   NoOfiFrame  HasSocialNet  length_words_raw  char_repeat  \\\n",
       "0         0.0           0.0              13.0          9.0   \n",
       "1         0.0           0.0               9.0          8.0   \n",
       "2         0.0           0.0              20.0         17.0   \n",
       "3         0.0           0.0               4.0          3.0   \n",
       "4         0.0           0.0               9.0          9.0   \n",
       "\n",
       "   shortest_words_raw  longest_words_raw  avg_words_raw  domain_age  \n",
       "0                 2.0               15.0       5.666667        None  \n",
       "1                 2.0               32.0       9.222222        None  \n",
       "2                 1.0               13.0       5.000000        None  \n",
       "3                 3.0                8.0       4.750000        None  \n",
       "4                 1.0               22.0       7.000000        None  \n",
       "\n",
       "[5 rows x 28 columns]"
      ]
     },
     "execution_count": 116,
     "metadata": {},
     "output_type": "execute_result"
    }
   ],
   "source": [
    "combined_df_no_duplicates.head()"
   ]
  },
  {
   "cell_type": "code",
   "execution_count": 117,
   "metadata": {},
   "outputs": [
    {
     "data": {
      "text/plain": [
       "array([None], dtype=object)"
      ]
     },
     "execution_count": 117,
     "metadata": {},
     "output_type": "execute_result"
    }
   ],
   "source": [
    "combined_df_no_duplicates['domain_age'].unique()"
   ]
  },
  {
   "cell_type": "markdown",
   "metadata": {},
   "source": [
    "#### Checking DNS Record"
   ]
  },
  {
   "cell_type": "code",
   "execution_count": 118,
   "metadata": {},
   "outputs": [
    {
     "data": {
      "text/plain": [
       "\"import socket\\n\\ndef check_dns_record(domain):\\n    try:\\n        socket.gethostbyname(domain)\\n        return 1  # DNS record exists\\n    except socket.gaierror:\\n        return 0  # No DNS record\\n\\n# Apply to your DataFrame\\ncombined_df_no_duplicates['dns_record'] = combined_df_no_duplicates['Domain'].apply(check_dns_record)\\n\""
      ]
     },
     "execution_count": 118,
     "metadata": {},
     "output_type": "execute_result"
    }
   ],
   "source": [
    "\"\"\"import socket\n",
    "\n",
    "def check_dns_record(domain):\n",
    "    try:\n",
    "        socket.gethostbyname(domain)\n",
    "        return 1  # DNS record exists\n",
    "    except socket.gaierror:\n",
    "        return 0  # No DNS record\n",
    "\n",
    "# Apply to your DataFrame\n",
    "combined_df_no_duplicates['dns_record'] = combined_df_no_duplicates['Domain'].apply(check_dns_record)\n",
    "\"\"\""
   ]
  },
  {
   "cell_type": "code",
   "execution_count": 119,
   "metadata": {},
   "outputs": [
    {
     "data": {
      "text/html": [
       "<div>\n",
       "<style scoped>\n",
       "    .dataframe tbody tr th:only-of-type {\n",
       "        vertical-align: middle;\n",
       "    }\n",
       "\n",
       "    .dataframe tbody tr th {\n",
       "        vertical-align: top;\n",
       "    }\n",
       "\n",
       "    .dataframe thead th {\n",
       "        text-align: right;\n",
       "    }\n",
       "</style>\n",
       "<table border=\"1\" class=\"dataframe\">\n",
       "  <thead>\n",
       "    <tr style=\"text-align: right;\">\n",
       "      <th></th>\n",
       "      <th>url</th>\n",
       "      <th>status</th>\n",
       "      <th>URLLength</th>\n",
       "      <th>Domain</th>\n",
       "      <th>DomainLength</th>\n",
       "      <th>IsDomainIP</th>\n",
       "      <th>TLD</th>\n",
       "      <th>NoOfSubDomain</th>\n",
       "      <th>NoOfLettersInURL</th>\n",
       "      <th>LetterRatioInURL</th>\n",
       "      <th>...</th>\n",
       "      <th>NoOfURLRedirect</th>\n",
       "      <th>NoOfPopup</th>\n",
       "      <th>NoOfiFrame</th>\n",
       "      <th>HasSocialNet</th>\n",
       "      <th>length_words_raw</th>\n",
       "      <th>char_repeat</th>\n",
       "      <th>shortest_words_raw</th>\n",
       "      <th>longest_words_raw</th>\n",
       "      <th>avg_words_raw</th>\n",
       "      <th>domain_age</th>\n",
       "    </tr>\n",
       "  </thead>\n",
       "  <tbody>\n",
       "    <tr>\n",
       "      <th>0</th>\n",
       "      <td>https://www.todayshomeowner.com/how-to-make-ho...</td>\n",
       "      <td>0.0</td>\n",
       "      <td>82.0</td>\n",
       "      <td>www.todayshomeowner.com</td>\n",
       "      <td>23.0</td>\n",
       "      <td>0.0</td>\n",
       "      <td>com</td>\n",
       "      <td>1.0</td>\n",
       "      <td>68.0</td>\n",
       "      <td>0.829268</td>\n",
       "      <td>...</td>\n",
       "      <td>0.0</td>\n",
       "      <td>0.0</td>\n",
       "      <td>0.0</td>\n",
       "      <td>0.0</td>\n",
       "      <td>13.0</td>\n",
       "      <td>9.0</td>\n",
       "      <td>2.0</td>\n",
       "      <td>15.0</td>\n",
       "      <td>5.666667</td>\n",
       "      <td>None</td>\n",
       "    </tr>\n",
       "    <tr>\n",
       "      <th>1</th>\n",
       "      <td>http://thapthan.ac.th/information/confirmation...</td>\n",
       "      <td>1.0</td>\n",
       "      <td>93.0</td>\n",
       "      <td>thapthan.ac.th</td>\n",
       "      <td>14.0</td>\n",
       "      <td>0.0</td>\n",
       "      <td>th</td>\n",
       "      <td>1.0</td>\n",
       "      <td>59.0</td>\n",
       "      <td>0.634409</td>\n",
       "      <td>...</td>\n",
       "      <td>0.0</td>\n",
       "      <td>0.0</td>\n",
       "      <td>0.0</td>\n",
       "      <td>0.0</td>\n",
       "      <td>9.0</td>\n",
       "      <td>8.0</td>\n",
       "      <td>2.0</td>\n",
       "      <td>32.0</td>\n",
       "      <td>9.222222</td>\n",
       "      <td>None</td>\n",
       "    </tr>\n",
       "    <tr>\n",
       "      <th>2</th>\n",
       "      <td>http://app.dialoginsight.com/T/OFC4/L2S/3888/B...</td>\n",
       "      <td>1.0</td>\n",
       "      <td>121.0</td>\n",
       "      <td>app.dialoginsight.com</td>\n",
       "      <td>21.0</td>\n",
       "      <td>0.0</td>\n",
       "      <td>com</td>\n",
       "      <td>1.0</td>\n",
       "      <td>55.0</td>\n",
       "      <td>0.454545</td>\n",
       "      <td>...</td>\n",
       "      <td>0.0</td>\n",
       "      <td>0.0</td>\n",
       "      <td>0.0</td>\n",
       "      <td>0.0</td>\n",
       "      <td>20.0</td>\n",
       "      <td>17.0</td>\n",
       "      <td>1.0</td>\n",
       "      <td>13.0</td>\n",
       "      <td>5.000000</td>\n",
       "      <td>None</td>\n",
       "    </tr>\n",
       "    <tr>\n",
       "      <th>3</th>\n",
       "      <td>https://www.bedslide.com</td>\n",
       "      <td>0.0</td>\n",
       "      <td>24.0</td>\n",
       "      <td>www.bedslide.com</td>\n",
       "      <td>16.0</td>\n",
       "      <td>0.0</td>\n",
       "      <td>com</td>\n",
       "      <td>1.0</td>\n",
       "      <td>19.0</td>\n",
       "      <td>0.791667</td>\n",
       "      <td>...</td>\n",
       "      <td>0.0</td>\n",
       "      <td>0.0</td>\n",
       "      <td>0.0</td>\n",
       "      <td>0.0</td>\n",
       "      <td>4.0</td>\n",
       "      <td>3.0</td>\n",
       "      <td>3.0</td>\n",
       "      <td>8.0</td>\n",
       "      <td>4.750000</td>\n",
       "      <td>None</td>\n",
       "    </tr>\n",
       "    <tr>\n",
       "      <th>4</th>\n",
       "      <td>https://tabs.ultimate-guitar.com/s/sex_pistols...</td>\n",
       "      <td>0.0</td>\n",
       "      <td>73.0</td>\n",
       "      <td>tabs.ultimate-guitar.com</td>\n",
       "      <td>24.0</td>\n",
       "      <td>0.0</td>\n",
       "      <td>com</td>\n",
       "      <td>1.0</td>\n",
       "      <td>58.0</td>\n",
       "      <td>0.794521</td>\n",
       "      <td>...</td>\n",
       "      <td>0.0</td>\n",
       "      <td>0.0</td>\n",
       "      <td>0.0</td>\n",
       "      <td>0.0</td>\n",
       "      <td>9.0</td>\n",
       "      <td>9.0</td>\n",
       "      <td>1.0</td>\n",
       "      <td>22.0</td>\n",
       "      <td>7.000000</td>\n",
       "      <td>None</td>\n",
       "    </tr>\n",
       "  </tbody>\n",
       "</table>\n",
       "<p>5 rows × 28 columns</p>\n",
       "</div>"
      ],
      "text/plain": [
       "                                                 url  status  URLLength  \\\n",
       "0  https://www.todayshomeowner.com/how-to-make-ho...     0.0       82.0   \n",
       "1  http://thapthan.ac.th/information/confirmation...     1.0       93.0   \n",
       "2  http://app.dialoginsight.com/T/OFC4/L2S/3888/B...     1.0      121.0   \n",
       "3                           https://www.bedslide.com     0.0       24.0   \n",
       "4  https://tabs.ultimate-guitar.com/s/sex_pistols...     0.0       73.0   \n",
       "\n",
       "                     Domain  DomainLength  IsDomainIP  TLD  NoOfSubDomain  \\\n",
       "0   www.todayshomeowner.com          23.0         0.0  com            1.0   \n",
       "1            thapthan.ac.th          14.0         0.0   th            1.0   \n",
       "2     app.dialoginsight.com          21.0         0.0  com            1.0   \n",
       "3          www.bedslide.com          16.0         0.0  com            1.0   \n",
       "4  tabs.ultimate-guitar.com          24.0         0.0  com            1.0   \n",
       "\n",
       "   NoOfLettersInURL  LetterRatioInURL  ...  NoOfURLRedirect  NoOfPopup  \\\n",
       "0              68.0          0.829268  ...              0.0        0.0   \n",
       "1              59.0          0.634409  ...              0.0        0.0   \n",
       "2              55.0          0.454545  ...              0.0        0.0   \n",
       "3              19.0          0.791667  ...              0.0        0.0   \n",
       "4              58.0          0.794521  ...              0.0        0.0   \n",
       "\n",
       "   NoOfiFrame  HasSocialNet  length_words_raw  char_repeat  \\\n",
       "0         0.0           0.0              13.0          9.0   \n",
       "1         0.0           0.0               9.0          8.0   \n",
       "2         0.0           0.0              20.0         17.0   \n",
       "3         0.0           0.0               4.0          3.0   \n",
       "4         0.0           0.0               9.0          9.0   \n",
       "\n",
       "   shortest_words_raw  longest_words_raw  avg_words_raw  domain_age  \n",
       "0                 2.0               15.0       5.666667        None  \n",
       "1                 2.0               32.0       9.222222        None  \n",
       "2                 1.0               13.0       5.000000        None  \n",
       "3                 3.0                8.0       4.750000        None  \n",
       "4                 1.0               22.0       7.000000        None  \n",
       "\n",
       "[5 rows x 28 columns]"
      ]
     },
     "execution_count": 119,
     "metadata": {},
     "output_type": "execute_result"
    }
   ],
   "source": [
    "combined_df_no_duplicates.head()"
   ]
  },
  {
   "cell_type": "markdown",
   "metadata": {},
   "source": [
    "HasFavicon, HasTitle, Title:\n",
    "These require parsing the webpage’s HTML content, which can be done using the requests and BeautifulSoup libraries."
   ]
  },
  {
   "cell_type": "code",
   "execution_count": null,
   "metadata": {},
   "outputs": [
    {
     "name": "stderr",
     "output_type": "stream",
     "text": [
      "Some characters could not be decoded, and were replaced with REPLACEMENT CHARACTER.\n",
      "Some characters could not be decoded, and were replaced with REPLACEMENT CHARACTER.\n",
      "Some characters could not be decoded, and were replaced with REPLACEMENT CHARACTER.\n",
      "Some characters could not be decoded, and were replaced with REPLACEMENT CHARACTER.\n",
      "Some characters could not be decoded, and were replaced with REPLACEMENT CHARACTER.\n",
      "Some characters could not be decoded, and were replaced with REPLACEMENT CHARACTER.\n",
      "Some characters could not be decoded, and were replaced with REPLACEMENT CHARACTER.\n",
      "Some characters could not be decoded, and were replaced with REPLACEMENT CHARACTER.\n",
      "Some characters could not be decoded, and were replaced with REPLACEMENT CHARACTER.\n",
      "Some characters could not be decoded, and were replaced with REPLACEMENT CHARACTER.\n",
      "Some characters could not be decoded, and were replaced with REPLACEMENT CHARACTER.\n",
      "Some characters could not be decoded, and were replaced with REPLACEMENT CHARACTER.\n",
      "Some characters could not be decoded, and were replaced with REPLACEMENT CHARACTER.\n",
      "Some characters could not be decoded, and were replaced with REPLACEMENT CHARACTER.\n",
      "Some characters could not be decoded, and were replaced with REPLACEMENT CHARACTER.\n",
      "Some characters could not be decoded, and were replaced with REPLACEMENT CHARACTER.\n",
      "Some characters could not be decoded, and were replaced with REPLACEMENT CHARACTER.\n",
      "Some characters could not be decoded, and were replaced with REPLACEMENT CHARACTER.\n"
     ]
    }
   ],
   "source": [
    "import requests\n",
    "from bs4 import BeautifulSoup\n",
    "\n",
    "def get_page_content_features(url):\n",
    "    features = {'HasTitle': 0, 'Title': None}\n",
    "    try:\n",
    "        response = requests.get(url, timeout=5)\n",
    "        if response.status_code == 200:\n",
    "            soup = BeautifulSoup(response.content, 'html.parser')\n",
    "            \n",
    "            # Check for favicon\n",
    "            #features['HasFavicon'] = int(bool(soup.find('link', rel='icon') or soup.find('link', rel='shortcut icon')))\n",
    "            \n",
    "            # Check for title\n",
    "            title_tag = soup.find('title')\n",
    "            if title_tag:\n",
    "                features['HasTitle'] = 1\n",
    "                features['Title'] = title_tag.get_text(strip=True)\n",
    "    except:\n",
    "        pass  # Handle exceptions like timeouts or connection issues\n",
    "\n",
    "    return features\n",
    "\n",
    "# Apply to DataFrame\n",
    "page_content_features = combined_df_no_duplicates['url'].apply(get_page_content_features).apply(pd.Series)\n",
    "combined_df_no_duplicates = pd.concat([combined_df_no_duplicates, page_content_features], axis=1)\n"
   ]
  }
 ],
 "metadata": {
  "kernelspec": {
   "display_name": "learn-env",
   "language": "python",
   "name": "python3"
  },
  "language_info": {
   "codemirror_mode": {
    "name": "ipython",
    "version": 3
   },
   "file_extension": ".py",
   "mimetype": "text/x-python",
   "name": "python",
   "nbconvert_exporter": "python",
   "pygments_lexer": "ipython3",
   "version": "3.8.5"
  }
 },
 "nbformat": 4,
 "nbformat_minor": 2
}
